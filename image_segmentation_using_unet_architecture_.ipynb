{
  "cells": [
    {
      "cell_type": "markdown",
      "metadata": {
        "id": "view-in-github",
        "colab_type": "text"
      },
      "source": [
        "<a href=\"https://colab.research.google.com/github/surya81/image-segmentation/blob/main/image_segmentation_using_unet_architecture_.ipynb\" target=\"_parent\"><img src=\"https://colab.research.google.com/assets/colab-badge.svg\" alt=\"Open In Colab\"/></a>"
      ]
    },
    {
      "cell_type": "code",
      "execution_count": 1,
      "metadata": {
        "colab": {
          "base_uri": "https://localhost:8080/"
        },
        "id": "8BZ5v4ioAc9v",
        "outputId": "5143e6ec-fcca-4da3-f833-fe0888225d14"
      },
      "outputs": [
        {
          "output_type": "stream",
          "name": "stdout",
          "text": [
            "\u001b[K     |████████████████████████████████| 49 kB 2.6 MB/s \n",
            "\u001b[K     |████████████████████████████████| 78 kB 3.9 MB/s \n",
            "\u001b[K     |████████████████████████████████| 235 kB 39.5 MB/s \n",
            "\u001b[K     |████████████████████████████████| 948 kB 43.1 MB/s \n",
            "\u001b[K     |████████████████████████████████| 58 kB 5.4 MB/s \n",
            "\u001b[K     |████████████████████████████████| 51 kB 6.5 MB/s \n",
            "\u001b[?25h  Building wheel for typing (setup.py) ... \u001b[?25l\u001b[?25hdone\n",
            "\u001b[31mERROR: pip's dependency resolver does not currently take into account all the packages that are installed. This behaviour is the source of the following dependency conflicts.\n",
            "albumentations 0.1.12 requires imgaug<0.2.7,>=0.2.5, but you have imgaug 0.4.0 which is incompatible.\u001b[0m\n"
          ]
        }
      ],
      "source": [
        "import os\n",
        "if not os.path.exists('dataset1'):\n",
        "  !wget -q \\\n",
        "  https://www.dropbox.com/s/0pigmmmynbf9xwq/dataset1.zip\n",
        "  !unzip -q dataset1.zip\n",
        "  !rm dataset1.zip\n",
        "  !pip install -q torch_snippets pytorch_model_summary"
      ]
    },
    {
      "cell_type": "code",
      "execution_count": 2,
      "metadata": {
        "id": "-__PsXmNdVMg"
      },
      "outputs": [],
      "source": [
        "from torch_snippets import * \n",
        "from torchvision import transforms \n",
        "from sklearn.model_selection import train_test_split \n",
        "device = 'cuda' if torch.cuda.is_available() else \"cpu\"\n",
        "from torch.utils.data import Dataset , DataLoader"
      ]
    },
    {
      "cell_type": "code",
      "execution_count": 3,
      "metadata": {
        "id": "FJrCOiC35N5x"
      },
      "outputs": [],
      "source": [
        "tfms = transforms.Compose([\n",
        "                           transforms.ToTensor(),\n",
        "                           transforms.Normalize([0.485,0.456,0.406],[0.229,0.224,0.225])\n",
        "])"
      ]
    },
    {
      "cell_type": "code",
      "source": [
        "class SegData(Dataset):\n",
        "    def __init__(self, split):\n",
        "        self.items = stems(f'dataset1/images_prepped_{split}')\n",
        "        self.split = split\n",
        "    def __len__(self):\n",
        "        return len(self.items)\n",
        "    def __getitem__(self, ix):\n",
        "        image = read(f'dataset1/images_prepped_{self.split}/{self.items[ix]}.png', 1)\n",
        "        image = cv2.resize(image, (224,224))\n",
        "        mask = read(f'dataset1/annotations_prepped_{self.split}/{self.items[ix]}.png')\n",
        "        mask = cv2.resize(mask, (224,224))\n",
        "        return image, mask\n",
        "    def choose(self): return self[randint(len(self))]\n",
        "    def collate_fn(self, batch):\n",
        "        ims, masks = list(zip(*batch))\n",
        "        ims = torch.cat([tfms(im.copy()/255.)[None] for im in ims]).float().to(device)\n",
        "        ce_masks = torch.cat([torch.Tensor(mask[None]) for mask in masks]).long().to(device)\n",
        "        return ims, ce_masks"
      ],
      "metadata": {
        "id": "3Z5FMXefuswz"
      },
      "execution_count": 4,
      "outputs": []
    },
    {
      "cell_type": "code",
      "execution_count": 5,
      "metadata": {
        "id": "mySKTvt-Nc60"
      },
      "outputs": [],
      "source": [
        "trn_ds = SegData('train')\n",
        "val_ds = SegData(\"test\")"
      ]
    },
    {
      "cell_type": "code",
      "execution_count": 6,
      "metadata": {
        "id": "YgJd0MxVPrVK"
      },
      "outputs": [],
      "source": [
        "import matplotlib.pyplot as plt "
      ]
    },
    {
      "cell_type": "code",
      "execution_count": 7,
      "metadata": {
        "id": "suFbjs1H7HTz"
      },
      "outputs": [],
      "source": [
        "trn_dl = DataLoader(trn_ds,batch_size=4,shuffle = True,collate_fn = trn_ds.collate_fn)\n",
        "val_dl = DataLoader(val_ds,batch_size =4,shuffle = True,collate_fn = val_ds.collate_fn)"
      ]
    },
    {
      "cell_type": "code",
      "execution_count": 8,
      "metadata": {
        "id": "LESnZvv07IyC"
      },
      "outputs": [],
      "source": [
        "def conv(in_channels,out_channels,): \n",
        "  return nn.Sequential(\n",
        "      nn.Conv2d(in_channels,out_channels,kernel_size = 3,stride = 1, padding =1),\n",
        "      nn.BatchNorm2d(out_channels),\n",
        "      nn.ReLU(inplace = True)\n",
        "                        \n",
        "  )"
      ]
    },
    {
      "cell_type": "code",
      "execution_count": 9,
      "metadata": {
        "id": "CxTYDxzHSlKK"
      },
      "outputs": [],
      "source": [
        "def up_conv(in_channels,out_channels):\n",
        "  return nn.Sequential(\n",
        "      nn.ConvTranspose2d(in_channels,out_channels,kernel_size = 2,stride = 2),\n",
        "      nn.ReLU()\n",
        "  )"
      ]
    },
    {
      "cell_type": "code",
      "execution_count": 10,
      "metadata": {
        "colab": {
          "base_uri": "https://localhost:8080/",
          "height": 1000,
          "referenced_widgets": [
            "d40ae3f4fcb647fcb2a891057c3ffc6a",
            "1a07c829ed2944a28d78ed27ede9fdec",
            "9a73abf276c849ef81e17cec39069db9",
            "e742efdf5bf54e26bc4d666f5fde5528",
            "3eee0fa0efc341bfbfe814487ae5f195",
            "343343cf60dc4f1b834e4fa7c2705610",
            "c1ac4a5e4baa4d4a8ab51acd69463211",
            "6b0bca9604ce454d8e8d75a436c95a42",
            "6992d90e9e7540649c47808d9cb404c2",
            "2d3f049366524c8bb0d1d26a389595a2",
            "171daf81a63446d0a4cd4bb62d81edcd"
          ]
        },
        "id": "aSyX0WdkTBeJ",
        "outputId": "cb515f39-b656-416b-8d57-b06b9ccc7a5a"
      },
      "outputs": [
        {
          "output_type": "stream",
          "name": "stderr",
          "text": [
            "/usr/local/lib/python3.7/dist-packages/torchvision/models/_utils.py:209: UserWarning: The parameter 'pretrained' is deprecated since 0.13 and will be removed in 0.15, please use 'weights' instead.\n",
            "  f\"The parameter '{pretrained_param}' is deprecated since 0.13 and will be removed in 0.15, \"\n",
            "/usr/local/lib/python3.7/dist-packages/torchvision/models/_utils.py:223: UserWarning: Arguments other than a weight enum or `None` for 'weights' are deprecated since 0.13 and will be removed in 0.15. The current behavior is equivalent to passing `weights=VGG16_BN_Weights.IMAGENET1K_V1`. You can also use `weights=VGG16_BN_Weights.DEFAULT` to get the most up-to-date weights.\n",
            "  warnings.warn(msg)\n",
            "Downloading: \"https://download.pytorch.org/models/vgg16_bn-6c64b313.pth\" to /root/.cache/torch/hub/checkpoints/vgg16_bn-6c64b313.pth\n"
          ]
        },
        {
          "output_type": "display_data",
          "data": {
            "text/plain": [
              "  0%|          | 0.00/528M [00:00<?, ?B/s]"
            ],
            "application/vnd.jupyter.widget-view+json": {
              "version_major": 2,
              "version_minor": 0,
              "model_id": "d40ae3f4fcb647fcb2a891057c3ffc6a"
            }
          },
          "metadata": {}
        },
        {
          "output_type": "execute_result",
          "data": {
            "text/plain": [
              "VGG(\n",
              "  (features): Sequential(\n",
              "    (0): Conv2d(3, 64, kernel_size=(3, 3), stride=(1, 1), padding=(1, 1))\n",
              "    (1): BatchNorm2d(64, eps=1e-05, momentum=0.1, affine=True, track_running_stats=True)\n",
              "    (2): ReLU(inplace=True)\n",
              "    (3): Conv2d(64, 64, kernel_size=(3, 3), stride=(1, 1), padding=(1, 1))\n",
              "    (4): BatchNorm2d(64, eps=1e-05, momentum=0.1, affine=True, track_running_stats=True)\n",
              "    (5): ReLU(inplace=True)\n",
              "    (6): MaxPool2d(kernel_size=2, stride=2, padding=0, dilation=1, ceil_mode=False)\n",
              "    (7): Conv2d(64, 128, kernel_size=(3, 3), stride=(1, 1), padding=(1, 1))\n",
              "    (8): BatchNorm2d(128, eps=1e-05, momentum=0.1, affine=True, track_running_stats=True)\n",
              "    (9): ReLU(inplace=True)\n",
              "    (10): Conv2d(128, 128, kernel_size=(3, 3), stride=(1, 1), padding=(1, 1))\n",
              "    (11): BatchNorm2d(128, eps=1e-05, momentum=0.1, affine=True, track_running_stats=True)\n",
              "    (12): ReLU(inplace=True)\n",
              "    (13): MaxPool2d(kernel_size=2, stride=2, padding=0, dilation=1, ceil_mode=False)\n",
              "    (14): Conv2d(128, 256, kernel_size=(3, 3), stride=(1, 1), padding=(1, 1))\n",
              "    (15): BatchNorm2d(256, eps=1e-05, momentum=0.1, affine=True, track_running_stats=True)\n",
              "    (16): ReLU(inplace=True)\n",
              "    (17): Conv2d(256, 256, kernel_size=(3, 3), stride=(1, 1), padding=(1, 1))\n",
              "    (18): BatchNorm2d(256, eps=1e-05, momentum=0.1, affine=True, track_running_stats=True)\n",
              "    (19): ReLU(inplace=True)\n",
              "    (20): Conv2d(256, 256, kernel_size=(3, 3), stride=(1, 1), padding=(1, 1))\n",
              "    (21): BatchNorm2d(256, eps=1e-05, momentum=0.1, affine=True, track_running_stats=True)\n",
              "    (22): ReLU(inplace=True)\n",
              "    (23): MaxPool2d(kernel_size=2, stride=2, padding=0, dilation=1, ceil_mode=False)\n",
              "    (24): Conv2d(256, 512, kernel_size=(3, 3), stride=(1, 1), padding=(1, 1))\n",
              "    (25): BatchNorm2d(512, eps=1e-05, momentum=0.1, affine=True, track_running_stats=True)\n",
              "    (26): ReLU(inplace=True)\n",
              "    (27): Conv2d(512, 512, kernel_size=(3, 3), stride=(1, 1), padding=(1, 1))\n",
              "    (28): BatchNorm2d(512, eps=1e-05, momentum=0.1, affine=True, track_running_stats=True)\n",
              "    (29): ReLU(inplace=True)\n",
              "    (30): Conv2d(512, 512, kernel_size=(3, 3), stride=(1, 1), padding=(1, 1))\n",
              "    (31): BatchNorm2d(512, eps=1e-05, momentum=0.1, affine=True, track_running_stats=True)\n",
              "    (32): ReLU(inplace=True)\n",
              "    (33): MaxPool2d(kernel_size=2, stride=2, padding=0, dilation=1, ceil_mode=False)\n",
              "    (34): Conv2d(512, 512, kernel_size=(3, 3), stride=(1, 1), padding=(1, 1))\n",
              "    (35): BatchNorm2d(512, eps=1e-05, momentum=0.1, affine=True, track_running_stats=True)\n",
              "    (36): ReLU(inplace=True)\n",
              "    (37): Conv2d(512, 512, kernel_size=(3, 3), stride=(1, 1), padding=(1, 1))\n",
              "    (38): BatchNorm2d(512, eps=1e-05, momentum=0.1, affine=True, track_running_stats=True)\n",
              "    (39): ReLU(inplace=True)\n",
              "    (40): Conv2d(512, 512, kernel_size=(3, 3), stride=(1, 1), padding=(1, 1))\n",
              "    (41): BatchNorm2d(512, eps=1e-05, momentum=0.1, affine=True, track_running_stats=True)\n",
              "    (42): ReLU(inplace=True)\n",
              "    (43): MaxPool2d(kernel_size=2, stride=2, padding=0, dilation=1, ceil_mode=False)\n",
              "  )\n",
              "  (avgpool): AdaptiveAvgPool2d(output_size=(7, 7))\n",
              "  (classifier): Sequential(\n",
              "    (0): Linear(in_features=25088, out_features=4096, bias=True)\n",
              "    (1): ReLU(inplace=True)\n",
              "    (2): Dropout(p=0.5, inplace=False)\n",
              "    (3): Linear(in_features=4096, out_features=4096, bias=True)\n",
              "    (4): ReLU(inplace=True)\n",
              "    (5): Dropout(p=0.5, inplace=False)\n",
              "    (6): Linear(in_features=4096, out_features=1000, bias=True)\n",
              "  )\n",
              ")"
            ]
          },
          "metadata": {},
          "execution_count": 10
        }
      ],
      "source": [
        "from torchvision.models import vgg16_bn \n",
        "model = vgg16_bn(pretrained = True)\n",
        "model\n"
      ]
    },
    {
      "cell_type": "code",
      "source": [
        "class UNet(nn.Module):\n",
        "    def __init__(self, pretrained=True, out_channels=12):\n",
        "        super().__init__()\n",
        "\n",
        "        self.encoder = vgg16_bn(pretrained=pretrained).features\n",
        "        self.block1 = nn.Sequential(*self.encoder[:6])\n",
        "        self.block2 = nn.Sequential(*self.encoder[6:13])\n",
        "        self.block3 = nn.Sequential(*self.encoder[13:20])\n",
        "        self.block4 = nn.Sequential(*self.encoder[20:27])\n",
        "        self.block5 = nn.Sequential(*self.encoder[27:34])\n",
        "\n",
        "        self.bottleneck = nn.Sequential(*self.encoder[34:])\n",
        "        self.conv_bottleneck = conv(512, 1024)\n",
        "\n",
        "        self.up_conv6 = up_conv(1024, 512)\n",
        "        self.conv6 = conv(512 + 512, 512)\n",
        "        self.up_conv7 = up_conv(512, 256)\n",
        "        self.conv7 = conv(256 + 512, 256)\n",
        "        self.up_conv8 = up_conv(256, 128)\n",
        "        self.conv8 = conv(128 + 256, 128)\n",
        "        self.up_conv9 = up_conv(128, 64)\n",
        "        self.conv9 = conv(64 + 128, 64)\n",
        "        self.up_conv10 = up_conv(64, 32)\n",
        "        self.conv10 = conv(32 + 64, 32)\n",
        "        self.conv11 = nn.Conv2d(32, out_channels, kernel_size=1)\n",
        "    def forward(self, x):\n",
        "        block1 = self.block1(x)\n",
        "        block2 = self.block2(block1)\n",
        "        block3 = self.block3(block2)\n",
        "        block4 = self.block4(block3)\n",
        "        block5 = self.block5(block4)\n",
        "\n",
        "        bottleneck = self.bottleneck(block5)\n",
        "        x = self.conv_bottleneck(bottleneck)\n",
        "\n",
        "        x = self.up_conv6(x)\n",
        "        x = torch.cat([x, block5], dim=1)\n",
        "        x = self.conv6(x)\n",
        "\n",
        "        x = self.up_conv7(x)\n",
        "        x = torch.cat([x, block4], dim=1)\n",
        "        x = self.conv7(x)\n",
        "\n",
        "        x = self.up_conv8(x)\n",
        "        x = torch.cat([x, block3], dim=1)\n",
        "        x = self.conv8(x)\n",
        "\n",
        "        x = self.up_conv9(x)\n",
        "        x = torch.cat([x, block2], dim=1)\n",
        "        x = self.conv9(x)\n",
        "\n",
        "        x = self.up_conv10(x)\n",
        "        x = torch.cat([x, block1], dim=1)\n",
        "        x = self.conv10(x)\n",
        "\n",
        "        x = self.conv11(x)\n",
        "\n",
        "        return x"
      ],
      "metadata": {
        "id": "f0FeGC9UuOFU"
      },
      "execution_count": 11,
      "outputs": []
    },
    {
      "cell_type": "code",
      "execution_count": 12,
      "metadata": {
        "id": "vbvCEU-CJ1f8"
      },
      "outputs": [],
      "source": [
        "ce = nn.CrossEntropyLoss()\n",
        "def UnetLoss(preds, targets):\n",
        "  ce_loss = ce(preds, targets)\n",
        "  acc = (torch.max(preds, 1)[1] == targets).float().mean()\n",
        "  return ce_loss, acc"
      ]
    },
    {
      "cell_type": "code",
      "execution_count": 13,
      "metadata": {
        "id": "487Fo93jKHW-"
      },
      "outputs": [],
      "source": [
        "def train_batch(model, data, optimizer, criterion):\n",
        "  model.train()\n",
        "  ims, ce_masks = data\n",
        "  _masks = model(ims)\n",
        "  optimizer.zero_grad()\n",
        "  loss, acc = criterion(_masks, ce_masks)\n",
        "  loss.backward()\n",
        "  optimizer.step()\n",
        "  return loss.item(), acc.item()\n",
        "@torch.no_grad()\n",
        "def validate_batch(model, data, criterion):\n",
        "  model.eval()\n",
        "  ims, masks = data\n",
        "  _masks = model(ims)\n",
        "  loss, acc = criterion(_masks, masks)\n",
        "  return loss.item(), acc.item()"
      ]
    },
    {
      "cell_type": "code",
      "execution_count": 14,
      "metadata": {
        "colab": {
          "base_uri": "https://localhost:8080/"
        },
        "id": "CN5vAk0oKW38",
        "outputId": "bc0ee425-74c4-4146-8a5a-33488883a326"
      },
      "outputs": [
        {
          "output_type": "stream",
          "name": "stderr",
          "text": [
            "/usr/local/lib/python3.7/dist-packages/torchvision/models/_utils.py:209: UserWarning: The parameter 'pretrained' is deprecated since 0.13 and will be removed in 0.15, please use 'weights' instead.\n",
            "  f\"The parameter '{pretrained_param}' is deprecated since 0.13 and will be removed in 0.15, \"\n",
            "/usr/local/lib/python3.7/dist-packages/torchvision/models/_utils.py:223: UserWarning: Arguments other than a weight enum or `None` for 'weights' are deprecated since 0.13 and will be removed in 0.15. The current behavior is equivalent to passing `weights=VGG16_BN_Weights.IMAGENET1K_V1`. You can also use `weights=VGG16_BN_Weights.DEFAULT` to get the most up-to-date weights.\n",
            "  warnings.warn(msg)\n"
          ]
        }
      ],
      "source": [
        "model = UNet().to(device)\n",
        "criterion = UnetLoss\n",
        "optimizer = optim.Adam(model.parameters(), lr=1e-3)\n",
        "n_epochs = 10"
      ]
    },
    {
      "cell_type": "code",
      "execution_count": 15,
      "metadata": {
        "colab": {
          "base_uri": "https://localhost:8080/"
        },
        "id": "bnP5p05TK9VP",
        "outputId": "920cbebb-8ed1-4333-dd4d-50bf1701ff83"
      },
      "outputs": [
        {
          "output_type": "stream",
          "name": "stdout",
          "text": [
            "EPOCH: 1.000\ttrn_loss: 1.143\ttrn_acc: 0.753\tval_loss: 0.877\tval_acc: 0.803\t(1025.92s - 9233.30s remaining)\n",
            "EPOCH: 1.000\ttrn_loss: 1.143\ttrn_acc: 0.753\tval_loss: 0.827\tval_acc: 0.818\t(1029.29s - 9263.58s remaining)\n",
            "EPOCH: 1.000\ttrn_loss: 1.143\ttrn_acc: 0.753\tval_loss: 0.834\tval_acc: 0.813\t(1032.72s - 9294.44s remaining)\n",
            "EPOCH: 1.000\ttrn_loss: 1.143\ttrn_acc: 0.753\tval_loss: 0.819\tval_acc: 0.818\t(1036.14s - 9325.30s remaining)\n",
            "EPOCH: 1.000\ttrn_loss: 1.143\ttrn_acc: 0.753\tval_loss: 0.822\tval_acc: 0.816\t(1039.53s - 9355.79s remaining)\n",
            "EPOCH: 1.000\ttrn_loss: 1.143\ttrn_acc: 0.753\tval_loss: 0.818\tval_acc: 0.817\t(1042.95s - 9386.59s remaining)\n",
            "EPOCH: 1.000\ttrn_loss: 1.143\ttrn_acc: 0.753\tval_loss: 0.823\tval_acc: 0.815\t(1046.36s - 9417.22s remaining)\n",
            "EPOCH: 1.000\ttrn_loss: 1.143\ttrn_acc: 0.753\tval_loss: 0.827\tval_acc: 0.814\t(1049.74s - 9447.68s remaining)\n",
            "EPOCH: 1.000\ttrn_loss: 1.143\ttrn_acc: 0.753\tval_loss: 0.827\tval_acc: 0.814\t(1053.16s - 9478.41s remaining)\n",
            "EPOCH: 1.000\ttrn_loss: 1.143\ttrn_acc: 0.753\tval_loss: 0.828\tval_acc: 0.814\t(1056.55s - 9508.91s remaining)\n",
            "EPOCH: 1.000\ttrn_loss: 1.143\ttrn_acc: 0.753\tval_loss: 0.833\tval_acc: 0.812\t(1059.94s - 9539.45s remaining)\n",
            "EPOCH: 1.000\ttrn_loss: 1.143\ttrn_acc: 0.753\tval_loss: 0.830\tval_acc: 0.814\t(1063.35s - 9570.12s remaining)\n",
            "EPOCH: 1.000\ttrn_loss: 1.143\ttrn_acc: 0.753\tval_loss: 0.832\tval_acc: 0.813\t(1066.73s - 9600.60s remaining)\n",
            "EPOCH: 1.000\ttrn_loss: 1.143\ttrn_acc: 0.753\tval_loss: 0.831\tval_acc: 0.814\t(1070.12s - 9631.12s remaining)\n",
            "EPOCH: 1.000\ttrn_loss: 1.143\ttrn_acc: 0.753\tval_loss: 0.830\tval_acc: 0.814\t(1073.53s - 9661.75s remaining)\n",
            "EPOCH: 1.000\ttrn_loss: 1.143\ttrn_acc: 0.753\tval_loss: 0.834\tval_acc: 0.812\t(1076.96s - 9692.63s remaining)\n",
            "EPOCH: 1.000\ttrn_loss: 1.143\ttrn_acc: 0.753\tval_loss: 0.827\tval_acc: 0.814\t(1080.37s - 9723.29s remaining)\n",
            "EPOCH: 1.000\ttrn_loss: 1.143\ttrn_acc: 0.753\tval_loss: 0.830\tval_acc: 0.813\t(1083.75s - 9753.78s remaining)\n",
            "EPOCH: 1.000\ttrn_loss: 1.143\ttrn_acc: 0.753\tval_loss: 0.831\tval_acc: 0.813\t(1087.15s - 9784.31s remaining)\n",
            "EPOCH: 1.000\ttrn_loss: 1.143\ttrn_acc: 0.753\tval_loss: 0.830\tval_acc: 0.813\t(1090.53s - 9814.74s remaining)\n",
            "EPOCH: 1.000\ttrn_loss: 1.143\ttrn_acc: 0.753\tval_loss: 0.833\tval_acc: 0.812\t(1093.92s - 9845.28s remaining)\n",
            "EPOCH: 1.000\ttrn_loss: 1.143\ttrn_acc: 0.753\tval_loss: 0.834\tval_acc: 0.811\t(1097.34s - 9876.09s remaining)\n",
            "EPOCH: 1.000\ttrn_loss: 1.143\ttrn_acc: 0.753\tval_loss: 0.829\tval_acc: 0.813\t(1100.74s - 9906.69s remaining)\n",
            "EPOCH: 1.000\ttrn_loss: 1.143\ttrn_acc: 0.753\tval_loss: 0.829\tval_acc: 0.813\t(1104.12s - 9937.06s remaining)\n",
            "EPOCH: 1.000\ttrn_loss: 1.143\ttrn_acc: 0.753\tval_loss: 0.832\tval_acc: 0.812\t(1107.53s - 9967.81s remaining)\n",
            "EPOCH: 1.000\ttrn_loss: 1.143\ttrn_acc: 0.753\tval_loss: 0.832\tval_acc: 0.812\t(1108.43s - 9975.84s remaining)\n",
            "EPOCH: 2.000\ttrn_loss: 0.678\ttrn_acc: 0.826\tval_loss: 0.782\tval_acc: 0.795\t(2122.88s - 8491.53s remaining)\n",
            "EPOCH: 2.000\ttrn_loss: 0.678\ttrn_acc: 0.826\tval_loss: 0.726\tval_acc: 0.809\t(2126.25s - 8505.01s remaining)\n",
            "EPOCH: 2.000\ttrn_loss: 0.678\ttrn_acc: 0.826\tval_loss: 0.689\tval_acc: 0.820\t(2129.59s - 8518.36s remaining)\n",
            "EPOCH: 2.000\ttrn_loss: 0.678\ttrn_acc: 0.826\tval_loss: 0.663\tval_acc: 0.829\t(2132.93s - 8531.73s remaining)\n",
            "EPOCH: 2.000\ttrn_loss: 0.678\ttrn_acc: 0.826\tval_loss: 0.653\tval_acc: 0.831\t(2136.29s - 8545.17s remaining)\n",
            "EPOCH: 2.000\ttrn_loss: 0.678\ttrn_acc: 0.826\tval_loss: 0.648\tval_acc: 0.832\t(2139.63s - 8558.52s remaining)\n",
            "EPOCH: 2.000\ttrn_loss: 0.678\ttrn_acc: 0.826\tval_loss: 0.644\tval_acc: 0.833\t(2142.97s - 8571.87s remaining)\n",
            "EPOCH: 2.000\ttrn_loss: 0.678\ttrn_acc: 0.826\tval_loss: 0.639\tval_acc: 0.834\t(2146.31s - 8585.25s remaining)\n",
            "EPOCH: 2.000\ttrn_loss: 0.678\ttrn_acc: 0.826\tval_loss: 0.632\tval_acc: 0.835\t(2149.66s - 8598.64s remaining)\n",
            "EPOCH: 2.000\ttrn_loss: 0.678\ttrn_acc: 0.826\tval_loss: 0.627\tval_acc: 0.837\t(2153.01s - 8612.04s remaining)\n",
            "EPOCH: 2.000\ttrn_loss: 0.678\ttrn_acc: 0.826\tval_loss: 0.626\tval_acc: 0.838\t(2156.38s - 8625.51s remaining)\n",
            "EPOCH: 2.000\ttrn_loss: 0.678\ttrn_acc: 0.826\tval_loss: 0.628\tval_acc: 0.836\t(2159.71s - 8638.86s remaining)\n",
            "EPOCH: 2.000\ttrn_loss: 0.678\ttrn_acc: 0.826\tval_loss: 0.626\tval_acc: 0.837\t(2163.08s - 8652.32s remaining)\n",
            "EPOCH: 2.000\ttrn_loss: 0.678\ttrn_acc: 0.826\tval_loss: 0.622\tval_acc: 0.838\t(2166.44s - 8665.74s remaining)\n",
            "EPOCH: 2.000\ttrn_loss: 0.678\ttrn_acc: 0.826\tval_loss: 0.620\tval_acc: 0.839\t(2169.80s - 8679.20s remaining)\n",
            "EPOCH: 2.000\ttrn_loss: 0.678\ttrn_acc: 0.826\tval_loss: 0.622\tval_acc: 0.838\t(2173.17s - 8692.69s remaining)\n",
            "EPOCH: 2.000\ttrn_loss: 0.678\ttrn_acc: 0.826\tval_loss: 0.618\tval_acc: 0.839\t(2176.54s - 8706.18s remaining)\n",
            "EPOCH: 2.000\ttrn_loss: 0.678\ttrn_acc: 0.826\tval_loss: 0.619\tval_acc: 0.839\t(2179.90s - 8719.61s remaining)\n",
            "EPOCH: 2.000\ttrn_loss: 0.678\ttrn_acc: 0.826\tval_loss: 0.619\tval_acc: 0.839\t(2183.24s - 8732.94s remaining)\n",
            "EPOCH: 2.000\ttrn_loss: 0.678\ttrn_acc: 0.826\tval_loss: 0.620\tval_acc: 0.838\t(2186.60s - 8746.40s remaining)\n",
            "EPOCH: 2.000\ttrn_loss: 0.678\ttrn_acc: 0.826\tval_loss: 0.617\tval_acc: 0.839\t(2190.03s - 8760.13s remaining)\n",
            "EPOCH: 2.000\ttrn_loss: 0.678\ttrn_acc: 0.826\tval_loss: 0.616\tval_acc: 0.839\t(2193.37s - 8773.50s remaining)\n",
            "EPOCH: 2.000\ttrn_loss: 0.678\ttrn_acc: 0.826\tval_loss: 0.615\tval_acc: 0.840\t(2196.72s - 8786.87s remaining)\n",
            "EPOCH: 2.000\ttrn_loss: 0.678\ttrn_acc: 0.826\tval_loss: 0.612\tval_acc: 0.841\t(2200.09s - 8800.34s remaining)\n",
            "EPOCH: 2.000\ttrn_loss: 0.678\ttrn_acc: 0.826\tval_loss: 0.611\tval_acc: 0.841\t(2203.43s - 8813.71s remaining)\n",
            "EPOCH: 2.000\ttrn_loss: 0.678\ttrn_acc: 0.826\tval_loss: 0.611\tval_acc: 0.841\t(2204.31s - 8817.23s remaining)\n",
            "EPOCH: 3.000\ttrn_loss: 0.560\ttrn_acc: 0.849\tval_loss: 0.654\tval_acc: 0.830\t(3216.17s - 7504.41s remaining)\n",
            "EPOCH: 3.000\ttrn_loss: 0.560\ttrn_acc: 0.849\tval_loss: 0.612\tval_acc: 0.842\t(3219.54s - 7512.25s remaining)\n",
            "EPOCH: 3.000\ttrn_loss: 0.560\ttrn_acc: 0.849\tval_loss: 0.603\tval_acc: 0.845\t(3222.88s - 7520.06s remaining)\n",
            "EPOCH: 3.000\ttrn_loss: 0.560\ttrn_acc: 0.849\tval_loss: 0.592\tval_acc: 0.847\t(3226.22s - 7527.85s remaining)\n",
            "EPOCH: 3.000\ttrn_loss: 0.560\ttrn_acc: 0.849\tval_loss: 0.598\tval_acc: 0.845\t(3229.61s - 7535.76s remaining)\n",
            "EPOCH: 3.000\ttrn_loss: 0.560\ttrn_acc: 0.849\tval_loss: 0.586\tval_acc: 0.850\t(3232.98s - 7543.61s remaining)\n",
            "EPOCH: 3.000\ttrn_loss: 0.560\ttrn_acc: 0.849\tval_loss: 0.587\tval_acc: 0.849\t(3236.34s - 7551.45s remaining)\n",
            "EPOCH: 3.000\ttrn_loss: 0.560\ttrn_acc: 0.849\tval_loss: 0.584\tval_acc: 0.850\t(3239.70s - 7559.31s remaining)\n",
            "EPOCH: 3.000\ttrn_loss: 0.560\ttrn_acc: 0.849\tval_loss: 0.586\tval_acc: 0.849\t(3243.07s - 7567.17s remaining)\n",
            "EPOCH: 3.000\ttrn_loss: 0.560\ttrn_acc: 0.849\tval_loss: 0.585\tval_acc: 0.850\t(3246.41s - 7574.96s remaining)\n",
            "EPOCH: 3.000\ttrn_loss: 0.560\ttrn_acc: 0.849\tval_loss: 0.588\tval_acc: 0.849\t(3249.78s - 7582.82s remaining)\n",
            "EPOCH: 3.000\ttrn_loss: 0.560\ttrn_acc: 0.849\tval_loss: 0.583\tval_acc: 0.850\t(3253.16s - 7590.72s remaining)\n",
            "EPOCH: 3.000\ttrn_loss: 0.560\ttrn_acc: 0.849\tval_loss: 0.577\tval_acc: 0.852\t(3256.53s - 7598.57s remaining)\n",
            "EPOCH: 3.000\ttrn_loss: 0.560\ttrn_acc: 0.849\tval_loss: 0.580\tval_acc: 0.851\t(3259.93s - 7606.50s remaining)\n",
            "EPOCH: 3.000\ttrn_loss: 0.560\ttrn_acc: 0.849\tval_loss: 0.583\tval_acc: 0.851\t(3263.29s - 7614.35s remaining)\n",
            "EPOCH: 3.000\ttrn_loss: 0.560\ttrn_acc: 0.849\tval_loss: 0.584\tval_acc: 0.851\t(3266.67s - 7622.23s remaining)\n",
            "EPOCH: 3.000\ttrn_loss: 0.560\ttrn_acc: 0.849\tval_loss: 0.580\tval_acc: 0.852\t(3270.06s - 7630.14s remaining)\n",
            "EPOCH: 3.000\ttrn_loss: 0.560\ttrn_acc: 0.849\tval_loss: 0.580\tval_acc: 0.853\t(3273.42s - 7637.99s remaining)\n",
            "EPOCH: 3.000\ttrn_loss: 0.560\ttrn_acc: 0.849\tval_loss: 0.586\tval_acc: 0.851\t(3276.79s - 7645.83s remaining)\n",
            "EPOCH: 3.000\ttrn_loss: 0.560\ttrn_acc: 0.849\tval_loss: 0.585\tval_acc: 0.851\t(3280.17s - 7653.73s remaining)\n",
            "EPOCH: 3.000\ttrn_loss: 0.560\ttrn_acc: 0.849\tval_loss: 0.584\tval_acc: 0.852\t(3283.54s - 7661.59s remaining)\n",
            "EPOCH: 3.000\ttrn_loss: 0.560\ttrn_acc: 0.849\tval_loss: 0.582\tval_acc: 0.852\t(3286.91s - 7669.45s remaining)\n",
            "EPOCH: 3.000\ttrn_loss: 0.560\ttrn_acc: 0.849\tval_loss: 0.580\tval_acc: 0.853\t(3290.29s - 7677.34s remaining)\n",
            "EPOCH: 3.000\ttrn_loss: 0.560\ttrn_acc: 0.849\tval_loss: 0.585\tval_acc: 0.851\t(3293.65s - 7685.17s remaining)\n",
            "EPOCH: 3.000\ttrn_loss: 0.560\ttrn_acc: 0.849\tval_loss: 0.583\tval_acc: 0.852\t(3297.00s - 7693.00s remaining)\n",
            "EPOCH: 3.000\ttrn_loss: 0.560\ttrn_acc: 0.849\tval_loss: 0.583\tval_acc: 0.852\t(3297.88s - 7695.06s remaining)\n",
            "EPOCH: 4.000\ttrn_loss: 0.518\ttrn_acc: 0.859\tval_loss: 0.546\tval_acc: 0.863\t(4355.08s - 6532.63s remaining)\n",
            "EPOCH: 4.000\ttrn_loss: 0.518\ttrn_acc: 0.859\tval_loss: 0.536\tval_acc: 0.865\t(4358.46s - 6537.70s remaining)\n",
            "EPOCH: 4.000\ttrn_loss: 0.518\ttrn_acc: 0.859\tval_loss: 0.511\tval_acc: 0.871\t(4361.84s - 6542.76s remaining)\n",
            "EPOCH: 4.000\ttrn_loss: 0.518\ttrn_acc: 0.859\tval_loss: 0.520\tval_acc: 0.867\t(4365.19s - 6547.79s remaining)\n",
            "EPOCH: 4.000\ttrn_loss: 0.518\ttrn_acc: 0.859\tval_loss: 0.520\tval_acc: 0.866\t(4368.56s - 6552.84s remaining)\n",
            "EPOCH: 4.000\ttrn_loss: 0.518\ttrn_acc: 0.859\tval_loss: 0.513\tval_acc: 0.867\t(4371.91s - 6557.86s remaining)\n",
            "EPOCH: 4.000\ttrn_loss: 0.518\ttrn_acc: 0.859\tval_loss: 0.518\tval_acc: 0.864\t(4375.27s - 6562.91s remaining)\n",
            "EPOCH: 4.000\ttrn_loss: 0.518\ttrn_acc: 0.859\tval_loss: 0.515\tval_acc: 0.866\t(4378.64s - 6567.97s remaining)\n",
            "EPOCH: 4.000\ttrn_loss: 0.518\ttrn_acc: 0.859\tval_loss: 0.514\tval_acc: 0.865\t(4382.01s - 6573.02s remaining)\n",
            "EPOCH: 4.000\ttrn_loss: 0.518\ttrn_acc: 0.859\tval_loss: 0.514\tval_acc: 0.866\t(4385.36s - 6578.03s remaining)\n",
            "EPOCH: 4.000\ttrn_loss: 0.518\ttrn_acc: 0.859\tval_loss: 0.513\tval_acc: 0.865\t(4388.73s - 6583.09s remaining)\n",
            "EPOCH: 4.000\ttrn_loss: 0.518\ttrn_acc: 0.859\tval_loss: 0.506\tval_acc: 0.867\t(4392.08s - 6588.12s remaining)\n",
            "EPOCH: 4.000\ttrn_loss: 0.518\ttrn_acc: 0.859\tval_loss: 0.512\tval_acc: 0.865\t(4395.43s - 6593.14s remaining)\n",
            "EPOCH: 4.000\ttrn_loss: 0.518\ttrn_acc: 0.859\tval_loss: 0.510\tval_acc: 0.866\t(4398.78s - 6598.17s remaining)\n",
            "EPOCH: 4.000\ttrn_loss: 0.518\ttrn_acc: 0.859\tval_loss: 0.506\tval_acc: 0.867\t(4402.15s - 6603.22s remaining)\n",
            "EPOCH: 4.000\ttrn_loss: 0.518\ttrn_acc: 0.859\tval_loss: 0.503\tval_acc: 0.868\t(4405.50s - 6608.25s remaining)\n",
            "EPOCH: 4.000\ttrn_loss: 0.518\ttrn_acc: 0.859\tval_loss: 0.501\tval_acc: 0.868\t(4408.86s - 6613.28s remaining)\n",
            "EPOCH: 4.000\ttrn_loss: 0.518\ttrn_acc: 0.859\tval_loss: 0.497\tval_acc: 0.870\t(4412.21s - 6618.32s remaining)\n",
            "EPOCH: 4.000\ttrn_loss: 0.518\ttrn_acc: 0.859\tval_loss: 0.500\tval_acc: 0.869\t(4415.57s - 6623.36s remaining)\n",
            "EPOCH: 4.000\ttrn_loss: 0.518\ttrn_acc: 0.859\tval_loss: 0.496\tval_acc: 0.870\t(4418.93s - 6628.40s remaining)\n",
            "EPOCH: 4.000\ttrn_loss: 0.518\ttrn_acc: 0.859\tval_loss: 0.494\tval_acc: 0.870\t(4422.32s - 6633.48s remaining)\n",
            "EPOCH: 4.000\ttrn_loss: 0.518\ttrn_acc: 0.859\tval_loss: 0.493\tval_acc: 0.870\t(4425.66s - 6638.49s remaining)\n",
            "EPOCH: 4.000\ttrn_loss: 0.518\ttrn_acc: 0.859\tval_loss: 0.492\tval_acc: 0.871\t(4429.01s - 6643.52s remaining)\n",
            "EPOCH: 4.000\ttrn_loss: 0.518\ttrn_acc: 0.859\tval_loss: 0.490\tval_acc: 0.871\t(4432.38s - 6648.57s remaining)\n",
            "EPOCH: 4.000\ttrn_loss: 0.518\ttrn_acc: 0.859\tval_loss: 0.490\tval_acc: 0.871\t(4435.74s - 6653.61s remaining)\n",
            "EPOCH: 4.000\ttrn_loss: 0.518\ttrn_acc: 0.859\tval_loss: 0.490\tval_acc: 0.871\t(4436.62s - 6654.93s remaining)\n",
            "EPOCH: 5.000\ttrn_loss: 0.468\ttrn_acc: 0.871\tval_loss: 0.557\tval_acc: 0.851\t(5450.89s - 5450.89s remaining)\n",
            "EPOCH: 5.000\ttrn_loss: 0.468\ttrn_acc: 0.871\tval_loss: 0.521\tval_acc: 0.859\t(5454.25s - 5454.25s remaining)\n",
            "EPOCH: 5.000\ttrn_loss: 0.468\ttrn_acc: 0.871\tval_loss: 0.507\tval_acc: 0.863\t(5457.58s - 5457.58s remaining)\n",
            "EPOCH: 5.000\ttrn_loss: 0.468\ttrn_acc: 0.871\tval_loss: 0.508\tval_acc: 0.863\t(5460.93s - 5460.93s remaining)\n",
            "EPOCH: 5.000\ttrn_loss: 0.468\ttrn_acc: 0.871\tval_loss: 0.489\tval_acc: 0.868\t(5464.28s - 5464.28s remaining)\n",
            "EPOCH: 5.000\ttrn_loss: 0.468\ttrn_acc: 0.871\tval_loss: 0.498\tval_acc: 0.865\t(5467.59s - 5467.59s remaining)\n",
            "EPOCH: 5.000\ttrn_loss: 0.468\ttrn_acc: 0.871\tval_loss: 0.508\tval_acc: 0.863\t(5470.93s - 5470.93s remaining)\n",
            "EPOCH: 5.000\ttrn_loss: 0.468\ttrn_acc: 0.871\tval_loss: 0.515\tval_acc: 0.861\t(5474.25s - 5474.25s remaining)\n",
            "EPOCH: 5.000\ttrn_loss: 0.468\ttrn_acc: 0.871\tval_loss: 0.510\tval_acc: 0.863\t(5477.60s - 5477.60s remaining)\n",
            "EPOCH: 5.000\ttrn_loss: 0.468\ttrn_acc: 0.871\tval_loss: 0.513\tval_acc: 0.862\t(5480.93s - 5480.93s remaining)\n",
            "EPOCH: 5.000\ttrn_loss: 0.468\ttrn_acc: 0.871\tval_loss: 0.515\tval_acc: 0.861\t(5484.29s - 5484.29s remaining)\n",
            "EPOCH: 5.000\ttrn_loss: 0.468\ttrn_acc: 0.871\tval_loss: 0.515\tval_acc: 0.862\t(5487.62s - 5487.62s remaining)\n",
            "EPOCH: 5.000\ttrn_loss: 0.468\ttrn_acc: 0.871\tval_loss: 0.514\tval_acc: 0.862\t(5490.96s - 5490.96s remaining)\n",
            "EPOCH: 5.000\ttrn_loss: 0.468\ttrn_acc: 0.871\tval_loss: 0.524\tval_acc: 0.859\t(5494.31s - 5494.31s remaining)\n",
            "EPOCH: 5.000\ttrn_loss: 0.468\ttrn_acc: 0.871\tval_loss: 0.522\tval_acc: 0.860\t(5497.64s - 5497.64s remaining)\n",
            "EPOCH: 5.000\ttrn_loss: 0.468\ttrn_acc: 0.871\tval_loss: 0.526\tval_acc: 0.859\t(5500.98s - 5500.98s remaining)\n",
            "EPOCH: 5.000\ttrn_loss: 0.468\ttrn_acc: 0.871\tval_loss: 0.525\tval_acc: 0.859\t(5504.31s - 5504.31s remaining)\n",
            "EPOCH: 5.000\ttrn_loss: 0.468\ttrn_acc: 0.871\tval_loss: 0.531\tval_acc: 0.858\t(5507.62s - 5507.62s remaining)\n",
            "EPOCH: 5.000\ttrn_loss: 0.468\ttrn_acc: 0.871\tval_loss: 0.528\tval_acc: 0.858\t(5510.95s - 5510.95s remaining)\n",
            "EPOCH: 5.000\ttrn_loss: 0.468\ttrn_acc: 0.871\tval_loss: 0.526\tval_acc: 0.859\t(5514.30s - 5514.30s remaining)\n",
            "EPOCH: 5.000\ttrn_loss: 0.468\ttrn_acc: 0.871\tval_loss: 0.525\tval_acc: 0.859\t(5517.62s - 5517.62s remaining)\n",
            "EPOCH: 5.000\ttrn_loss: 0.468\ttrn_acc: 0.871\tval_loss: 0.528\tval_acc: 0.859\t(5520.93s - 5520.93s remaining)\n",
            "EPOCH: 5.000\ttrn_loss: 0.468\ttrn_acc: 0.871\tval_loss: 0.528\tval_acc: 0.858\t(5524.24s - 5524.24s remaining)\n",
            "EPOCH: 5.000\ttrn_loss: 0.468\ttrn_acc: 0.871\tval_loss: 0.527\tval_acc: 0.859\t(5527.59s - 5527.59s remaining)\n",
            "EPOCH: 5.000\ttrn_loss: 0.468\ttrn_acc: 0.871\tval_loss: 0.530\tval_acc: 0.858\t(5530.96s - 5530.96s remaining)\n",
            "EPOCH: 5.000\ttrn_loss: 0.468\ttrn_acc: 0.871\tval_loss: 0.530\tval_acc: 0.858\t(5531.83s - 5531.83s remaining)\n",
            "EPOCH: 6.000\ttrn_loss: 0.428\ttrn_acc: 0.880\tval_loss: 0.478\tval_acc: 0.867\t(6548.54s - 4365.70s remaining)\n",
            "EPOCH: 6.000\ttrn_loss: 0.428\ttrn_acc: 0.880\tval_loss: 0.487\tval_acc: 0.857\t(6551.91s - 4367.94s remaining)\n",
            "EPOCH: 6.000\ttrn_loss: 0.428\ttrn_acc: 0.880\tval_loss: 0.466\tval_acc: 0.863\t(6555.27s - 4370.18s remaining)\n",
            "EPOCH: 6.000\ttrn_loss: 0.428\ttrn_acc: 0.880\tval_loss: 0.452\tval_acc: 0.866\t(6558.62s - 4372.42s remaining)\n",
            "EPOCH: 6.000\ttrn_loss: 0.428\ttrn_acc: 0.880\tval_loss: 0.450\tval_acc: 0.865\t(6562.04s - 4374.69s remaining)\n",
            "EPOCH: 6.000\ttrn_loss: 0.428\ttrn_acc: 0.880\tval_loss: 0.441\tval_acc: 0.869\t(6565.50s - 4377.00s remaining)\n",
            "EPOCH: 6.000\ttrn_loss: 0.428\ttrn_acc: 0.880\tval_loss: 0.443\tval_acc: 0.868\t(6568.88s - 4379.25s remaining)\n",
            "EPOCH: 6.000\ttrn_loss: 0.428\ttrn_acc: 0.880\tval_loss: 0.453\tval_acc: 0.863\t(6572.28s - 4381.52s remaining)\n",
            "EPOCH: 6.000\ttrn_loss: 0.428\ttrn_acc: 0.880\tval_loss: 0.456\tval_acc: 0.862\t(6575.61s - 4383.74s remaining)\n",
            "EPOCH: 6.000\ttrn_loss: 0.428\ttrn_acc: 0.880\tval_loss: 0.453\tval_acc: 0.863\t(6578.96s - 4385.98s remaining)\n",
            "EPOCH: 6.000\ttrn_loss: 0.428\ttrn_acc: 0.880\tval_loss: 0.446\tval_acc: 0.865\t(6582.27s - 4388.18s remaining)\n",
            "EPOCH: 6.000\ttrn_loss: 0.428\ttrn_acc: 0.880\tval_loss: 0.446\tval_acc: 0.865\t(6585.62s - 4390.41s remaining)\n",
            "EPOCH: 6.000\ttrn_loss: 0.428\ttrn_acc: 0.880\tval_loss: 0.449\tval_acc: 0.864\t(6588.97s - 4392.65s remaining)\n",
            "EPOCH: 6.000\ttrn_loss: 0.428\ttrn_acc: 0.880\tval_loss: 0.444\tval_acc: 0.866\t(6592.31s - 4394.88s remaining)\n",
            "EPOCH: 6.000\ttrn_loss: 0.428\ttrn_acc: 0.880\tval_loss: 0.441\tval_acc: 0.867\t(6595.70s - 4397.13s remaining)\n",
            "EPOCH: 6.000\ttrn_loss: 0.428\ttrn_acc: 0.880\tval_loss: 0.443\tval_acc: 0.867\t(6599.08s - 4399.38s remaining)\n",
            "EPOCH: 6.000\ttrn_loss: 0.428\ttrn_acc: 0.880\tval_loss: 0.445\tval_acc: 0.866\t(6602.41s - 4401.61s remaining)\n",
            "EPOCH: 6.000\ttrn_loss: 0.428\ttrn_acc: 0.880\tval_loss: 0.447\tval_acc: 0.865\t(6605.76s - 4403.84s remaining)\n",
            "EPOCH: 6.000\ttrn_loss: 0.428\ttrn_acc: 0.880\tval_loss: 0.444\tval_acc: 0.866\t(6609.11s - 4406.07s remaining)\n",
            "EPOCH: 6.000\ttrn_loss: 0.428\ttrn_acc: 0.880\tval_loss: 0.445\tval_acc: 0.866\t(6612.44s - 4408.30s remaining)\n",
            "EPOCH: 6.000\ttrn_loss: 0.428\ttrn_acc: 0.880\tval_loss: 0.441\tval_acc: 0.867\t(6615.78s - 4410.52s remaining)\n",
            "EPOCH: 6.000\ttrn_loss: 0.428\ttrn_acc: 0.880\tval_loss: 0.438\tval_acc: 0.868\t(6619.14s - 4412.76s remaining)\n",
            "EPOCH: 6.000\ttrn_loss: 0.428\ttrn_acc: 0.880\tval_loss: 0.436\tval_acc: 0.869\t(6622.49s - 4414.99s remaining)\n",
            "EPOCH: 6.000\ttrn_loss: 0.428\ttrn_acc: 0.880\tval_loss: 0.436\tval_acc: 0.869\t(6625.89s - 4417.26s remaining)\n",
            "EPOCH: 6.000\ttrn_loss: 0.428\ttrn_acc: 0.880\tval_loss: 0.436\tval_acc: 0.869\t(6629.26s - 4419.51s remaining)\n",
            "EPOCH: 6.000\ttrn_loss: 0.428\ttrn_acc: 0.880\tval_loss: 0.436\tval_acc: 0.869\t(6630.16s - 4420.11s remaining)\n",
            "EPOCH: 7.000\ttrn_loss: 0.396\ttrn_acc: 0.888\tval_loss: 0.430\tval_acc: 0.874\t(7645.69s - 3276.73s remaining)\n",
            "EPOCH: 7.000\ttrn_loss: 0.396\ttrn_acc: 0.888\tval_loss: 0.436\tval_acc: 0.873\t(7649.05s - 3278.16s remaining)\n",
            "EPOCH: 7.000\ttrn_loss: 0.396\ttrn_acc: 0.888\tval_loss: 0.439\tval_acc: 0.872\t(7652.41s - 3279.60s remaining)\n",
            "EPOCH: 7.000\ttrn_loss: 0.396\ttrn_acc: 0.888\tval_loss: 0.426\tval_acc: 0.876\t(7655.74s - 3281.03s remaining)\n",
            "EPOCH: 7.000\ttrn_loss: 0.396\ttrn_acc: 0.888\tval_loss: 0.422\tval_acc: 0.877\t(7659.06s - 3282.46s remaining)\n",
            "EPOCH: 7.000\ttrn_loss: 0.396\ttrn_acc: 0.888\tval_loss: 0.410\tval_acc: 0.881\t(7662.41s - 3283.89s remaining)\n",
            "EPOCH: 7.000\ttrn_loss: 0.396\ttrn_acc: 0.888\tval_loss: 0.427\tval_acc: 0.875\t(7665.73s - 3285.31s remaining)\n",
            "EPOCH: 7.000\ttrn_loss: 0.396\ttrn_acc: 0.888\tval_loss: 0.438\tval_acc: 0.872\t(7669.05s - 3286.73s remaining)\n",
            "EPOCH: 7.000\ttrn_loss: 0.396\ttrn_acc: 0.888\tval_loss: 0.434\tval_acc: 0.874\t(7672.39s - 3288.17s remaining)\n",
            "EPOCH: 7.000\ttrn_loss: 0.396\ttrn_acc: 0.888\tval_loss: 0.440\tval_acc: 0.872\t(7675.77s - 3289.61s remaining)\n",
            "EPOCH: 7.000\ttrn_loss: 0.396\ttrn_acc: 0.888\tval_loss: 0.449\tval_acc: 0.869\t(7679.12s - 3291.05s remaining)\n",
            "EPOCH: 7.000\ttrn_loss: 0.396\ttrn_acc: 0.888\tval_loss: 0.446\tval_acc: 0.870\t(7682.47s - 3292.49s remaining)\n",
            "EPOCH: 7.000\ttrn_loss: 0.396\ttrn_acc: 0.888\tval_loss: 0.447\tval_acc: 0.870\t(7685.81s - 3293.92s remaining)\n",
            "EPOCH: 7.000\ttrn_loss: 0.396\ttrn_acc: 0.888\tval_loss: 0.449\tval_acc: 0.869\t(7689.15s - 3295.35s remaining)\n",
            "EPOCH: 7.000\ttrn_loss: 0.396\ttrn_acc: 0.888\tval_loss: 0.450\tval_acc: 0.868\t(7692.48s - 3296.78s remaining)\n",
            "EPOCH: 7.000\ttrn_loss: 0.396\ttrn_acc: 0.888\tval_loss: 0.449\tval_acc: 0.869\t(7695.83s - 3298.21s remaining)\n",
            "EPOCH: 7.000\ttrn_loss: 0.396\ttrn_acc: 0.888\tval_loss: 0.454\tval_acc: 0.867\t(7699.17s - 3299.64s remaining)\n",
            "EPOCH: 7.000\ttrn_loss: 0.396\ttrn_acc: 0.888\tval_loss: 0.454\tval_acc: 0.868\t(7702.53s - 3301.08s remaining)\n",
            "EPOCH: 7.000\ttrn_loss: 0.396\ttrn_acc: 0.888\tval_loss: 0.450\tval_acc: 0.869\t(7705.90s - 3302.53s remaining)\n",
            "EPOCH: 7.000\ttrn_loss: 0.396\ttrn_acc: 0.888\tval_loss: 0.448\tval_acc: 0.869\t(7709.26s - 3303.97s remaining)\n",
            "EPOCH: 7.000\ttrn_loss: 0.396\ttrn_acc: 0.888\tval_loss: 0.447\tval_acc: 0.870\t(7712.61s - 3305.40s remaining)\n",
            "EPOCH: 7.000\ttrn_loss: 0.396\ttrn_acc: 0.888\tval_loss: 0.445\tval_acc: 0.870\t(7715.97s - 3306.84s remaining)\n",
            "EPOCH: 7.000\ttrn_loss: 0.396\ttrn_acc: 0.888\tval_loss: 0.443\tval_acc: 0.871\t(7719.31s - 3308.28s remaining)\n",
            "EPOCH: 7.000\ttrn_loss: 0.396\ttrn_acc: 0.888\tval_loss: 0.442\tval_acc: 0.871\t(7722.67s - 3309.71s remaining)\n",
            "EPOCH: 7.000\ttrn_loss: 0.396\ttrn_acc: 0.888\tval_loss: 0.443\tval_acc: 0.871\t(7726.03s - 3311.16s remaining)\n",
            "EPOCH: 7.000\ttrn_loss: 0.396\ttrn_acc: 0.888\tval_loss: 0.443\tval_acc: 0.871\t(7726.92s - 3311.54s remaining)\n",
            "EPOCH: 8.000\ttrn_loss: 0.403\ttrn_acc: 0.885\tval_loss: 0.557\tval_acc: 0.838\t(8751.02s - 2187.76s remaining)\n",
            "EPOCH: 8.000\ttrn_loss: 0.403\ttrn_acc: 0.885\tval_loss: 0.588\tval_acc: 0.834\t(8754.42s - 2188.61s remaining)\n",
            "EPOCH: 8.000\ttrn_loss: 0.403\ttrn_acc: 0.885\tval_loss: 0.576\tval_acc: 0.836\t(8757.80s - 2189.45s remaining)\n",
            "EPOCH: 8.000\ttrn_loss: 0.403\ttrn_acc: 0.885\tval_loss: 0.576\tval_acc: 0.836\t(8761.19s - 2190.30s remaining)\n",
            "EPOCH: 8.000\ttrn_loss: 0.403\ttrn_acc: 0.885\tval_loss: 0.570\tval_acc: 0.838\t(8764.57s - 2191.14s remaining)\n",
            "EPOCH: 8.000\ttrn_loss: 0.403\ttrn_acc: 0.885\tval_loss: 0.592\tval_acc: 0.832\t(8767.91s - 2191.98s remaining)\n",
            "EPOCH: 8.000\ttrn_loss: 0.403\ttrn_acc: 0.885\tval_loss: 0.578\tval_acc: 0.836\t(8771.30s - 2192.83s remaining)\n",
            "EPOCH: 8.000\ttrn_loss: 0.403\ttrn_acc: 0.885\tval_loss: 0.576\tval_acc: 0.835\t(8774.66s - 2193.66s remaining)\n",
            "EPOCH: 8.000\ttrn_loss: 0.403\ttrn_acc: 0.885\tval_loss: 0.579\tval_acc: 0.834\t(8778.03s - 2194.51s remaining)\n",
            "EPOCH: 8.000\ttrn_loss: 0.403\ttrn_acc: 0.885\tval_loss: 0.587\tval_acc: 0.831\t(8781.40s - 2195.35s remaining)\n",
            "EPOCH: 8.000\ttrn_loss: 0.403\ttrn_acc: 0.885\tval_loss: 0.593\tval_acc: 0.829\t(8784.82s - 2196.21s remaining)\n",
            "EPOCH: 8.000\ttrn_loss: 0.403\ttrn_acc: 0.885\tval_loss: 0.594\tval_acc: 0.829\t(8788.18s - 2197.05s remaining)\n",
            "EPOCH: 8.000\ttrn_loss: 0.403\ttrn_acc: 0.885\tval_loss: 0.592\tval_acc: 0.830\t(8791.53s - 2197.88s remaining)\n",
            "EPOCH: 8.000\ttrn_loss: 0.403\ttrn_acc: 0.885\tval_loss: 0.593\tval_acc: 0.829\t(8794.90s - 2198.73s remaining)\n",
            "EPOCH: 8.000\ttrn_loss: 0.403\ttrn_acc: 0.885\tval_loss: 0.602\tval_acc: 0.827\t(8798.28s - 2199.57s remaining)\n",
            "EPOCH: 8.000\ttrn_loss: 0.403\ttrn_acc: 0.885\tval_loss: 0.603\tval_acc: 0.826\t(8801.65s - 2200.41s remaining)\n",
            "EPOCH: 8.000\ttrn_loss: 0.403\ttrn_acc: 0.885\tval_loss: 0.599\tval_acc: 0.827\t(8805.02s - 2201.25s remaining)\n",
            "EPOCH: 8.000\ttrn_loss: 0.403\ttrn_acc: 0.885\tval_loss: 0.605\tval_acc: 0.826\t(8808.37s - 2202.09s remaining)\n",
            "EPOCH: 8.000\ttrn_loss: 0.403\ttrn_acc: 0.885\tval_loss: 0.605\tval_acc: 0.826\t(8811.76s - 2202.94s remaining)\n",
            "EPOCH: 8.000\ttrn_loss: 0.403\ttrn_acc: 0.885\tval_loss: 0.604\tval_acc: 0.826\t(8815.16s - 2203.79s remaining)\n",
            "EPOCH: 8.000\ttrn_loss: 0.403\ttrn_acc: 0.885\tval_loss: 0.606\tval_acc: 0.825\t(8818.50s - 2204.63s remaining)\n",
            "EPOCH: 8.000\ttrn_loss: 0.403\ttrn_acc: 0.885\tval_loss: 0.608\tval_acc: 0.825\t(8821.89s - 2205.47s remaining)\n",
            "EPOCH: 8.000\ttrn_loss: 0.403\ttrn_acc: 0.885\tval_loss: 0.610\tval_acc: 0.824\t(8825.24s - 2206.31s remaining)\n",
            "EPOCH: 8.000\ttrn_loss: 0.403\ttrn_acc: 0.885\tval_loss: 0.610\tval_acc: 0.824\t(8828.59s - 2207.15s remaining)\n",
            "EPOCH: 8.000\ttrn_loss: 0.403\ttrn_acc: 0.885\tval_loss: 0.614\tval_acc: 0.823\t(8831.95s - 2207.99s remaining)\n",
            "EPOCH: 8.000\ttrn_loss: 0.403\ttrn_acc: 0.885\tval_loss: 0.614\tval_acc: 0.823\t(8832.82s - 2208.21s remaining)\n",
            "EPOCH: 9.000\ttrn_loss: 0.374\ttrn_acc: 0.893\tval_loss: 0.366\tval_acc: 0.901\t(9854.58s - 1094.95s remaining)\n",
            "EPOCH: 9.000\ttrn_loss: 0.374\ttrn_acc: 0.893\tval_loss: 0.396\tval_acc: 0.889\t(9857.93s - 1095.33s remaining)\n",
            "EPOCH: 9.000\ttrn_loss: 0.374\ttrn_acc: 0.893\tval_loss: 0.406\tval_acc: 0.884\t(9861.29s - 1095.70s remaining)\n",
            "EPOCH: 9.000\ttrn_loss: 0.374\ttrn_acc: 0.893\tval_loss: 0.399\tval_acc: 0.887\t(9864.68s - 1096.08s remaining)\n",
            "EPOCH: 9.000\ttrn_loss: 0.374\ttrn_acc: 0.893\tval_loss: 0.409\tval_acc: 0.883\t(9868.03s - 1096.45s remaining)\n",
            "EPOCH: 9.000\ttrn_loss: 0.374\ttrn_acc: 0.893\tval_loss: 0.404\tval_acc: 0.884\t(9871.39s - 1096.82s remaining)\n",
            "EPOCH: 9.000\ttrn_loss: 0.374\ttrn_acc: 0.893\tval_loss: 0.396\tval_acc: 0.887\t(9874.72s - 1097.19s remaining)\n",
            "EPOCH: 9.000\ttrn_loss: 0.374\ttrn_acc: 0.893\tval_loss: 0.396\tval_acc: 0.886\t(9878.11s - 1097.57s remaining)\n",
            "EPOCH: 9.000\ttrn_loss: 0.374\ttrn_acc: 0.893\tval_loss: 0.399\tval_acc: 0.885\t(9881.44s - 1097.94s remaining)\n",
            "EPOCH: 9.000\ttrn_loss: 0.374\ttrn_acc: 0.893\tval_loss: 0.393\tval_acc: 0.887\t(9884.79s - 1098.31s remaining)\n",
            "EPOCH: 9.000\ttrn_loss: 0.374\ttrn_acc: 0.893\tval_loss: 0.396\tval_acc: 0.885\t(9888.12s - 1098.68s remaining)\n",
            "EPOCH: 9.000\ttrn_loss: 0.374\ttrn_acc: 0.893\tval_loss: 0.391\tval_acc: 0.887\t(9891.47s - 1099.05s remaining)\n",
            "EPOCH: 9.000\ttrn_loss: 0.374\ttrn_acc: 0.893\tval_loss: 0.390\tval_acc: 0.888\t(9894.84s - 1099.43s remaining)\n",
            "EPOCH: 9.000\ttrn_loss: 0.374\ttrn_acc: 0.893\tval_loss: 0.391\tval_acc: 0.887\t(9898.19s - 1099.80s remaining)\n",
            "EPOCH: 9.000\ttrn_loss: 0.374\ttrn_acc: 0.893\tval_loss: 0.390\tval_acc: 0.887\t(9901.55s - 1100.17s remaining)\n",
            "EPOCH: 9.000\ttrn_loss: 0.374\ttrn_acc: 0.893\tval_loss: 0.390\tval_acc: 0.887\t(9904.89s - 1100.54s remaining)\n",
            "EPOCH: 9.000\ttrn_loss: 0.374\ttrn_acc: 0.893\tval_loss: 0.391\tval_acc: 0.887\t(9908.26s - 1100.92s remaining)\n",
            "EPOCH: 9.000\ttrn_loss: 0.374\ttrn_acc: 0.893\tval_loss: 0.391\tval_acc: 0.887\t(9911.61s - 1101.29s remaining)\n",
            "EPOCH: 9.000\ttrn_loss: 0.374\ttrn_acc: 0.893\tval_loss: 0.390\tval_acc: 0.886\t(9914.96s - 1101.66s remaining)\n",
            "EPOCH: 9.000\ttrn_loss: 0.374\ttrn_acc: 0.893\tval_loss: 0.388\tval_acc: 0.887\t(9918.29s - 1102.03s remaining)\n",
            "EPOCH: 9.000\ttrn_loss: 0.374\ttrn_acc: 0.893\tval_loss: 0.386\tval_acc: 0.888\t(9921.64s - 1102.40s remaining)\n",
            "EPOCH: 9.000\ttrn_loss: 0.374\ttrn_acc: 0.893\tval_loss: 0.386\tval_acc: 0.888\t(9925.06s - 1102.78s remaining)\n",
            "EPOCH: 9.000\ttrn_loss: 0.374\ttrn_acc: 0.893\tval_loss: 0.387\tval_acc: 0.888\t(9928.42s - 1103.16s remaining)\n",
            "EPOCH: 9.000\ttrn_loss: 0.374\ttrn_acc: 0.893\tval_loss: 0.385\tval_acc: 0.889\t(9931.80s - 1103.53s remaining)\n",
            "EPOCH: 9.000\ttrn_loss: 0.374\ttrn_acc: 0.893\tval_loss: 0.385\tval_acc: 0.889\t(9935.14s - 1103.90s remaining)\n",
            "EPOCH: 9.000\ttrn_loss: 0.374\ttrn_acc: 0.893\tval_loss: 0.385\tval_acc: 0.889\t(9936.02s - 1104.00s remaining)\n",
            "EPOCH: 10.000\ttrn_loss: 0.332\ttrn_acc: 0.906\tval_loss: 0.389\tval_acc: 0.881\t(10955.36s - 0.00s remaining)\n",
            "EPOCH: 10.000\ttrn_loss: 0.332\ttrn_acc: 0.906\tval_loss: 0.408\tval_acc: 0.877\t(10958.69s - 0.00s remaining)\n",
            "EPOCH: 10.000\ttrn_loss: 0.332\ttrn_acc: 0.906\tval_loss: 0.389\tval_acc: 0.883\t(10962.02s - 0.00s remaining)\n",
            "EPOCH: 10.000\ttrn_loss: 0.332\ttrn_acc: 0.906\tval_loss: 0.385\tval_acc: 0.884\t(10965.38s - 0.00s remaining)\n",
            "EPOCH: 10.000\ttrn_loss: 0.332\ttrn_acc: 0.906\tval_loss: 0.375\tval_acc: 0.887\t(10968.71s - 0.00s remaining)\n",
            "EPOCH: 10.000\ttrn_loss: 0.332\ttrn_acc: 0.906\tval_loss: 0.377\tval_acc: 0.886\t(10972.06s - 0.00s remaining)\n",
            "EPOCH: 10.000\ttrn_loss: 0.332\ttrn_acc: 0.906\tval_loss: 0.374\tval_acc: 0.886\t(10975.45s - 0.00s remaining)\n",
            "EPOCH: 10.000\ttrn_loss: 0.332\ttrn_acc: 0.906\tval_loss: 0.372\tval_acc: 0.887\t(10978.84s - 0.00s remaining)\n",
            "EPOCH: 10.000\ttrn_loss: 0.332\ttrn_acc: 0.906\tval_loss: 0.375\tval_acc: 0.886\t(10982.20s - 0.00s remaining)\n",
            "EPOCH: 10.000\ttrn_loss: 0.332\ttrn_acc: 0.906\tval_loss: 0.372\tval_acc: 0.887\t(10985.53s - 0.00s remaining)\n",
            "EPOCH: 10.000\ttrn_loss: 0.332\ttrn_acc: 0.906\tval_loss: 0.374\tval_acc: 0.887\t(10988.89s - 0.00s remaining)\n",
            "EPOCH: 10.000\ttrn_loss: 0.332\ttrn_acc: 0.906\tval_loss: 0.373\tval_acc: 0.887\t(10992.24s - 0.00s remaining)\n",
            "EPOCH: 10.000\ttrn_loss: 0.332\ttrn_acc: 0.906\tval_loss: 0.368\tval_acc: 0.888\t(10995.57s - 0.00s remaining)\n",
            "EPOCH: 10.000\ttrn_loss: 0.332\ttrn_acc: 0.906\tval_loss: 0.363\tval_acc: 0.890\t(10998.91s - 0.00s remaining)\n",
            "EPOCH: 10.000\ttrn_loss: 0.332\ttrn_acc: 0.906\tval_loss: 0.364\tval_acc: 0.890\t(11002.26s - 0.00s remaining)\n",
            "EPOCH: 10.000\ttrn_loss: 0.332\ttrn_acc: 0.906\tval_loss: 0.363\tval_acc: 0.890\t(11005.67s - 0.00s remaining)\n",
            "EPOCH: 10.000\ttrn_loss: 0.332\ttrn_acc: 0.906\tval_loss: 0.363\tval_acc: 0.890\t(11009.04s - 0.00s remaining)\n",
            "EPOCH: 10.000\ttrn_loss: 0.332\ttrn_acc: 0.906\tval_loss: 0.362\tval_acc: 0.890\t(11012.39s - 0.00s remaining)\n",
            "EPOCH: 10.000\ttrn_loss: 0.332\ttrn_acc: 0.906\tval_loss: 0.363\tval_acc: 0.890\t(11015.71s - 0.00s remaining)\n",
            "EPOCH: 10.000\ttrn_loss: 0.332\ttrn_acc: 0.906\tval_loss: 0.361\tval_acc: 0.891\t(11019.04s - 0.00s remaining)\n",
            "EPOCH: 10.000\ttrn_loss: 0.332\ttrn_acc: 0.906\tval_loss: 0.361\tval_acc: 0.890\t(11022.39s - 0.00s remaining)\n",
            "EPOCH: 10.000\ttrn_loss: 0.332\ttrn_acc: 0.906\tval_loss: 0.359\tval_acc: 0.891\t(11025.72s - 0.00s remaining)\n",
            "EPOCH: 10.000\ttrn_loss: 0.332\ttrn_acc: 0.906\tval_loss: 0.359\tval_acc: 0.891\t(11029.08s - 0.00s remaining)\n",
            "EPOCH: 10.000\ttrn_loss: 0.332\ttrn_acc: 0.906\tval_loss: 0.356\tval_acc: 0.892\t(11032.44s - 0.00s remaining)\n",
            "EPOCH: 10.000\ttrn_loss: 0.332\ttrn_acc: 0.906\tval_loss: 0.357\tval_acc: 0.892\t(11035.81s - 0.00s remaining)\n",
            "EPOCH: 10.000\ttrn_loss: 0.332\ttrn_acc: 0.906\tval_loss: 0.357\tval_acc: 0.892\t(11036.72s - 0.00s remaining)\n"
          ]
        }
      ],
      "source": [
        "log = Report(n_epochs)\n",
        "for ex in range(n_epochs):\n",
        "  N = len(trn_dl)\n",
        "  for bx, data in enumerate(trn_dl):\n",
        "    loss, acc = train_batch(model, data, optimizer, criterion)\n",
        "    log.record(ex+(bx+1)/N,trn_loss=loss,trn_acc=acc, end='\\r')\n",
        "  N = len(val_dl)\n",
        "  for bx, data in enumerate(val_dl):\n",
        "    loss, acc = validate_batch(model, data, criterion)\n",
        "    log.record(ex+(bx+1)/N,val_loss=loss,val_acc=acc, end='\\r')\n",
        "    log.report_avgs(ex+1)"
      ]
    },
    {
      "cell_type": "code",
      "execution_count": 16,
      "metadata": {
        "id": "N2bD84Y9Ki3i",
        "colab": {
          "base_uri": "https://localhost:8080/",
          "height": 405
        },
        "outputId": "24e42c51-cc9f-44dc-c9ea-82d4d322deda"
      },
      "outputs": [
        {
          "output_type": "stream",
          "name": "stderr",
          "text": [
            "100%|██████████| 111/111 [00:00<00:00, 2488.46it/s]\n"
          ]
        },
        {
          "output_type": "display_data",
          "data": {
            "text/plain": [
              "<Figure size 576x432 with 1 Axes>"
            ],
            "image/png": "[encoded data removed]"
          },
          "metadata": {
            "needs_background": "light"
          }
        }
      ],
      "source": [
        "log.plot_epochs(['trn_loss','val_loss'])"
      ]
    },
    {
      "cell_type": "code",
      "source": [
        "im, mask = next(iter(val_dl))\n",
        "_mask = model(im)\n",
        "_, _mask = torch.max(_mask, dim=1)\n"
      ],
      "metadata": {
        "id": "H_ntUr508P23"
      },
      "execution_count": 28,
      "outputs": []
    },
    {
      "cell_type": "code",
      "source": [
        "subplots([im[3].permute(1,2,0).detach().cpu()[:,:,0], \\\n",
        "mask.permute(1,2,0).detach().cpu()[:,:,0], \\\n",
        "_mask.permute(1,2,0).detach().cpu()[:,:,0]],nc=3, \\\n",
        "titles=['Original image','Original mask', \\\n",
        "'Predicted mask'])"
      ],
      "metadata": {
        "colab": {
          "base_uri": "https://localhost:8080/",
          "height": 145
        },
        "id": "KUr3qma88c0Z",
        "outputId": "d67d649a-f6bd-40a3-eb94-5195afac4357"
      },
      "execution_count": 29,
      "outputs": [
        {
          "output_type": "display_data",
          "data": {
            "text/plain": [
              "<Figure size 360x360 with 3 Axes>"
            ],
            "image/png": "[encoded data removed]"
          },
          "metadata": {
            "needs_background": "light"
          }
        }
      ]
    }
  ],
  "metadata": {
    "colab": {
      "collapsed_sections": [],
      "name": "image segmentation using unet architecture  .ipynb",
      "provenance": [],
      "authorship_tag": "ABX9TyMQ5+Ax0afDUCtx9HdttUH8",
      "include_colab_link": true
    },
    "kernelspec": {
      "display_name": "Python 3",
      "name": "python3"
    },
    "language_info": {
      "name": "python"
    },
    "widgets": {
      "application/vnd.jupyter.widget-state+json": {
        "d40ae3f4fcb647fcb2a891057c3ffc6a": {
          "model_module": "@jupyter-widgets/controls",
          "model_name": "HBoxModel",
          "model_module_version": "1.5.0",
          "state": {
            "_dom_classes": [],
            "_model_module": "@jupyter-widgets/controls",
            "_model_module_version": "1.5.0",
            "_model_name": "HBoxModel",
            "_view_count": null,
            "_view_module": "@jupyter-widgets/controls",
            "_view_module_version": "1.5.0",
            "_view_name": "HBoxView",
            "box_style": "",
            "children": [
              "IPY_MODEL_1a07c829ed2944a28d78ed27ede9fdec",
              "IPY_MODEL_9a73abf276c849ef81e17cec39069db9",
              "IPY_MODEL_e742efdf5bf54e26bc4d666f5fde5528"
            ],
            "layout": "IPY_MODEL_3eee0fa0efc341bfbfe814487ae5f195"
          }
        },
        "1a07c829ed2944a28d78ed27ede9fdec": {
          "model_module": "@jupyter-widgets/controls",
          "model_name": "HTMLModel",
          "model_module_version": "1.5.0",
          "state": {
            "_dom_classes": [],
            "_model_module": "@jupyter-widgets/controls",
            "_model_module_version": "1.5.0",
            "_model_name": "HTMLModel",
            "_view_count": null,
            "_view_module": "@jupyter-widgets/controls",
            "_view_module_version": "1.5.0",
            "_view_name": "HTMLView",
            "description": "",
            "description_tooltip": null,
            "layout": "IPY_MODEL_343343cf60dc4f1b834e4fa7c2705610",
            "placeholder": "​",
            "style": "IPY_MODEL_c1ac4a5e4baa4d4a8ab51acd69463211",
            "value": "100%"
          }
        },
        "9a73abf276c849ef81e17cec39069db9": {
          "model_module": "@jupyter-widgets/controls",
          "model_name": "FloatProgressModel",
          "model_module_version": "1.5.0",
          "state": {
            "_dom_classes": [],
            "_model_module": "@jupyter-widgets/controls",
            "_model_module_version": "1.5.0",
            "_model_name": "FloatProgressModel",
            "_view_count": null,
            "_view_module": "@jupyter-widgets/controls",
            "_view_module_version": "1.5.0",
            "_view_name": "ProgressView",
            "bar_style": "success",
            "description": "",
            "description_tooltip": null,
            "layout": "IPY_MODEL_6b0bca9604ce454d8e8d75a436c95a42",
            "max": 553507836,
            "min": 0,
            "orientation": "horizontal",
            "style": "IPY_MODEL_6992d90e9e7540649c47808d9cb404c2",
            "value": 553507836
          }
        },
        "e742efdf5bf54e26bc4d666f5fde5528": {
          "model_module": "@jupyter-widgets/controls",
          "model_name": "HTMLModel",
          "model_module_version": "1.5.0",
          "state": {
            "_dom_classes": [],
            "_model_module": "@jupyter-widgets/controls",
            "_model_module_version": "1.5.0",
            "_model_name": "HTMLModel",
            "_view_count": null,
            "_view_module": "@jupyter-widgets/controls",
            "_view_module_version": "1.5.0",
            "_view_name": "HTMLView",
            "description": "",
            "description_tooltip": null,
            "layout": "IPY_MODEL_2d3f049366524c8bb0d1d26a389595a2",
            "placeholder": "​",
            "style": "IPY_MODEL_171daf81a63446d0a4cd4bb62d81edcd",
            "value": " 528M/528M [00:08&lt;00:00, 64.5MB/s]"
          }
        },
        "3eee0fa0efc341bfbfe814487ae5f195": {
          "model_module": "@jupyter-widgets/base",
          "model_name": "LayoutModel",
          "model_module_version": "1.2.0",
          "state": {
            "_model_module": "@jupyter-widgets/base",
            "_model_module_version": "1.2.0",
            "_model_name": "LayoutModel",
            "_view_count": null,
            "_view_module": "@jupyter-widgets/base",
            "_view_module_version": "1.2.0",
            "_view_name": "LayoutView",
            "align_content": null,
            "align_items": null,
            "align_self": null,
            "border": null,
            "bottom": null,
            "display": null,
            "flex": null,
            "flex_flow": null,
            "grid_area": null,
            "grid_auto_columns": null,
            "grid_auto_flow": null,
            "grid_auto_rows": null,
            "grid_column": null,
            "grid_gap": null,
            "grid_row": null,
            "grid_template_areas": null,
            "grid_template_columns": null,
            "grid_template_rows": null,
            "height": null,
            "justify_content": null,
            "justify_items": null,
            "left": null,
            "margin": null,
            "max_height": null,
            "max_width": null,
            "min_height": null,
            "min_width": null,
            "object_fit": null,
            "object_position": null,
            "order": null,
            "overflow": null,
            "overflow_x": null,
            "overflow_y": null,
            "padding": null,
            "right": null,
            "top": null,
            "visibility": null,
            "width": null
          }
        },
        "343343cf60dc4f1b834e4fa7c2705610": {
          "model_module": "@jupyter-widgets/base",
          "model_name": "LayoutModel",
          "model_module_version": "1.2.0",
          "state": {
            "_model_module": "@jupyter-widgets/base",
            "_model_module_version": "1.2.0",
            "_model_name": "LayoutModel",
            "_view_count": null,
            "_view_module": "@jupyter-widgets/base",
            "_view_module_version": "1.2.0",
            "_view_name": "LayoutView",
            "align_content": null,
            "align_items": null,
            "align_self": null,
            "border": null,
            "bottom": null,
            "display": null,
            "flex": null,
            "flex_flow": null,
            "grid_area": null,
            "grid_auto_columns": null,
            "grid_auto_flow": null,
            "grid_auto_rows": null,
            "grid_column": null,
            "grid_gap": null,
            "grid_row": null,
            "grid_template_areas": null,
            "grid_template_columns": null,
            "grid_template_rows": null,
            "height": null,
            "justify_content": null,
            "justify_items": null,
            "left": null,
            "margin": null,
            "max_height": null,
            "max_width": null,
            "min_height": null,
            "min_width": null,
            "object_fit": null,
            "object_position": null,
            "order": null,
            "overflow": null,
            "overflow_x": null,
            "overflow_y": null,
            "padding": null,
            "right": null,
            "top": null,
            "visibility": null,
            "width": null
          }
        },
        "c1ac4a5e4baa4d4a8ab51acd69463211": {
          "model_module": "@jupyter-widgets/controls",
          "model_name": "DescriptionStyleModel",
          "model_module_version": "1.5.0",
          "state": {
            "_model_module": "@jupyter-widgets/controls",
            "_model_module_version": "1.5.0",
            "_model_name": "DescriptionStyleModel",
            "_view_count": null,
            "_view_module": "@jupyter-widgets/base",
            "_view_module_version": "1.2.0",
            "_view_name": "StyleView",
            "description_width": ""
          }
        },
        "6b0bca9604ce454d8e8d75a436c95a42": {
          "model_module": "@jupyter-widgets/base",
          "model_name": "LayoutModel",
          "model_module_version": "1.2.0",
          "state": {
            "_model_module": "@jupyter-widgets/base",
            "_model_module_version": "1.2.0",
            "_model_name": "LayoutModel",
            "_view_count": null,
            "_view_module": "@jupyter-widgets/base",
            "_view_module_version": "1.2.0",
            "_view_name": "LayoutView",
            "align_content": null,
            "align_items": null,
            "align_self": null,
            "border": null,
            "bottom": null,
            "display": null,
            "flex": null,
            "flex_flow": null,
            "grid_area": null,
            "grid_auto_columns": null,
            "grid_auto_flow": null,
            "grid_auto_rows": null,
            "grid_column": null,
            "grid_gap": null,
            "grid_row": null,
            "grid_template_areas": null,
            "grid_template_columns": null,
            "grid_template_rows": null,
            "height": null,
            "justify_content": null,
            "justify_items": null,
            "left": null,
            "margin": null,
            "max_height": null,
            "max_width": null,
            "min_height": null,
            "min_width": null,
            "object_fit": null,
            "object_position": null,
            "order": null,
            "overflow": null,
            "overflow_x": null,
            "overflow_y": null,
            "padding": null,
            "right": null,
            "top": null,
            "visibility": null,
            "width": null
          }
        },
        "6992d90e9e7540649c47808d9cb404c2": {
          "model_module": "@jupyter-widgets/controls",
          "model_name": "ProgressStyleModel",
          "model_module_version": "1.5.0",
          "state": {
            "_model_module": "@jupyter-widgets/controls",
            "_model_module_version": "1.5.0",
            "_model_name": "ProgressStyleModel",
            "_view_count": null,
            "_view_module": "@jupyter-widgets/base",
            "_view_module_version": "1.2.0",
            "_view_name": "StyleView",
            "bar_color": null,
            "description_width": ""
          }
        },
        "2d3f049366524c8bb0d1d26a389595a2": {
          "model_module": "@jupyter-widgets/base",
          "model_name": "LayoutModel",
          "model_module_version": "1.2.0",
          "state": {
            "_model_module": "@jupyter-widgets/base",
            "_model_module_version": "1.2.0",
            "_model_name": "LayoutModel",
            "_view_count": null,
            "_view_module": "@jupyter-widgets/base",
            "_view_module_version": "1.2.0",
            "_view_name": "LayoutView",
            "align_content": null,
            "align_items": null,
            "align_self": null,
            "border": null,
            "bottom": null,
            "display": null,
            "flex": null,
            "flex_flow": null,
            "grid_area": null,
            "grid_auto_columns": null,
            "grid_auto_flow": null,
            "grid_auto_rows": null,
            "grid_column": null,
            "grid_gap": null,
            "grid_row": null,
            "grid_template_areas": null,
            "grid_template_columns": null,
            "grid_template_rows": null,
            "height": null,
            "justify_content": null,
            "justify_items": null,
            "left": null,
            "margin": null,
            "max_height": null,
            "max_width": null,
            "min_height": null,
            "min_width": null,
            "object_fit": null,
            "object_position": null,
            "order": null,
            "overflow": null,
            "overflow_x": null,
            "overflow_y": null,
            "padding": null,
            "right": null,
            "top": null,
            "visibility": null,
            "width": null
          }
        },
        "171daf81a63446d0a4cd4bb62d81edcd": {
          "model_module": "@jupyter-widgets/controls",
          "model_name": "DescriptionStyleModel",
          "model_module_version": "1.5.0",
          "state": {
            "_model_module": "@jupyter-widgets/controls",
            "_model_module_version": "1.5.0",
            "_model_name": "DescriptionStyleModel",
            "_view_count": null,
            "_view_module": "@jupyter-widgets/base",
            "_view_module_version": "1.2.0",
            "_view_name": "StyleView",
            "description_width": ""
          }
        }
      }
    }
  },
  "nbformat": 4,
  "nbformat_minor": 0
}